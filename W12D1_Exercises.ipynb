{
 "cells": [
  {
   "cell_type": "code",
   "execution_count": 3,
   "id": "2af2a956-df34-4e84-bbcd-e718e9b0d74d",
   "metadata": {},
   "outputs": [],
   "source": [
    "import os\n",
    "import pandas as pd\n",
    "import numpy as np\n",
    "import seaborn as sns\n",
    "import dotenv\n",
    "import sqlalchemy"
   ]
  },
  {
   "cell_type": "code",
   "execution_count": 4,
   "id": "7aa02dce-6f04-407b-8413-d6959c58ffa0",
   "metadata": {},
   "outputs": [],
   "source": [
    "import matplotlib.pyplot as plt"
   ]
  },
  {
   "cell_type": "code",
   "execution_count": null,
   "id": "5f8ae40d-ee0c-44b7-8e38-498751f46cd3",
   "metadata": {
    "scrolled": true
   },
   "outputs": [],
   "source": [
    "df = pd.read_csv(\"datasets/seaborn_datasets/titanic.csv\")\n",
    "df"
   ]
  },
  {
   "cell_type": "markdown",
   "id": "0eb819ee-6f43-4ce6-8a53-bac60f716206",
   "metadata": {
    "jp-MarkdownHeadingCollapsed": true
   },
   "source": [
    "### -Riusciamo a calcolare quanti ponti c'erano sulla nave (prima lettera dei dati nella colonna Cabin)?"
   ]
  },
  {
   "cell_type": "code",
   "execution_count": null,
   "id": "96a1fcab-350f-48c9-826e-784fe3c47793",
   "metadata": {},
   "outputs": [],
   "source": [
    "df[\"deck\"].sort_values().unique()"
   ]
  },
  {
   "cell_type": "code",
   "execution_count": null,
   "id": "6b7656ab-83da-4a53-b8e1-243253c84cd3",
   "metadata": {},
   "outputs": [],
   "source": [
    "# C'erano 7 ponti in teoria. Va considerato che la maggior parte dei dati presenti in quella colonna è nullo"
   ]
  },
  {
   "cell_type": "code",
   "execution_count": null,
   "id": "f216680a-2a3d-4b3b-984f-4bf55ef32fd7",
   "metadata": {},
   "outputs": [],
   "source": [
    "# Visualizzare un grafico con il numero di passeggeri di ogni classe di imbarco (colonna PClass)"
   ]
  },
  {
   "cell_type": "code",
   "execution_count": null,
   "id": "330bd612-aace-40c9-8cca-5c3dd0b5a8b2",
   "metadata": {},
   "outputs": [],
   "source": [
    "# Impostiamo dimensione del grafico (larghezza, altezza)\n",
    "plt.figure(figsize=(5,3))\n",
    "\n",
    "# Countplot: conta quante occorrenze ci sono per ogni valore unico della colonna 'Country'\n",
    "sns.countplot(data=df, x=\"class\")\n",
    "plt.xticks(rotation=45)  # Ruotiamo le etichette sull'asse X di 45° per leggibilità\n",
    "plt.title(\"Distribuzione i classi\")  # Aggiungiamo un titolo\n",
    "plt.show()  # Mostriamo il grafico"
   ]
  },
  {
   "cell_type": "markdown",
   "id": "6f87803d-2053-4920-b902-26f664eeb7ca",
   "metadata": {
    "jp-MarkdownHeadingCollapsed": true
   },
   "source": [
    "### - Fare la stessa cosa per la colonna Survived"
   ]
  },
  {
   "cell_type": "code",
   "execution_count": null,
   "id": "508687ec-3edc-4575-b1de-422a5118a265",
   "metadata": {},
   "outputs": [],
   "source": [
    "# cambio i valori all'interno della colonna 'survived' ai fine di una maggiore leggibilità del grafico\n",
    "df[\"survived\"] = df[\"survived\"].map({0: \"not survived\", 1: \"survived\"})"
   ]
  },
  {
   "cell_type": "code",
   "execution_count": null,
   "id": "babd7c71-fe46-4586-8134-4ce322fe7018",
   "metadata": {},
   "outputs": [],
   "source": [
    "plt.figure(figsize=(5,3)) #imposto la grandezza del grafico\n",
    "\n",
    "# Countplot: conta quante occorrenze ci sono per ogni valore unico della colonna 'Country'\n",
    "sns.countplot(data=df, x=\"survived\")\n",
    "plt.title(\"Sopravvissuti per classe\")  # Aggiungiamo un titolo\n",
    "plt.xlabel('Servived')\n",
    "plt.ylabel('Passengers')\n",
    "plt.show()  # Mostriamo il grafico"
   ]
  },
  {
   "cell_type": "markdown",
   "id": "d59fc575-d95c-4894-b833-1fba0aef26d5",
   "metadata": {
    "jp-MarkdownHeadingCollapsed": true
   },
   "source": [
    "### - Qual era la distribuzione delle tariffe (Fare)?"
   ]
  },
  {
   "cell_type": "code",
   "execution_count": null,
   "id": "926bf4ae-fe58-4328-8748-753aa29ebec3",
   "metadata": {},
   "outputs": [],
   "source": [
    "plt.figure(figsize=(4,4))\n",
    "sns.barplot(data=df, x=\"class\", y=\"fare\", estimator=\"mean\") #barplot è il grafico che calcola le medie\n",
    "plt.xticks(rotation=45)\n",
    "plt.title(\"Tariffa media per classe\")\n",
    "plt.xlabel(\"Classe\")\n",
    "plt.ylabel(\"Tariffa media\")\n",
    "plt.tight_layout()"
   ]
  },
  {
   "cell_type": "markdown",
   "id": "6c900d48-57dc-44b3-8192-667dcf490027",
   "metadata": {
    "jp-MarkdownHeadingCollapsed": true
   },
   "source": [
    "### - Riusciamo a vedere la distribuzione delle età dei passeggeri rispetto alla classe di imbarco con un boxplot?"
   ]
  },
  {
   "cell_type": "code",
   "execution_count": null,
   "id": "7fc76173-9270-4279-b46a-feb32f00d0e7",
   "metadata": {},
   "outputs": [],
   "source": [
    "plt.figure(figsize=(5,5)) # Imposta dimensioni del grafico\n",
    "\n",
    "# Boxplot: visualizza la distribuzione statistica dell'età dei passegeri per classe di imbarco\n",
    "sns.boxplot(data=df, x=\"class\", y=\"age\", color=\"red\")\n",
    "plt.xticks(rotation=45)  # Ruota le etichette sull'asse X\n",
    "plt.title(\"Distribuzione età per classe di imbarco\")  # Titolo del grafico\n",
    "plt.show()"
   ]
  },
  {
   "cell_type": "markdown",
   "id": "3f8e3df9-b7b5-4f80-b4e5-5f13e74a517b",
   "metadata": {
    "jp-MarkdownHeadingCollapsed": true
   },
   "source": [
    "### - Visualizziamo un boxplot rispetto alle colonne Fare e Survived; che cosa ne deduciamo?"
   ]
  },
  {
   "cell_type": "code",
   "execution_count": null,
   "id": "2ac40eae-88f4-4c70-b5b1-68916cc631f8",
   "metadata": {},
   "outputs": [],
   "source": [
    "plt.figure(figsize=(3,5))\n",
    "sns.boxplot(data=df, x=\"survived\", y= \"fare\", color=\"red\")\n",
    "plt.xticks(rotation=45)\n",
    "plt.title(\"Distribuzione della tariffa per sopravissuti\") "
   ]
  },
  {
   "cell_type": "code",
   "execution_count": null,
   "id": "8c1614ac-4d5d-4940-8aef-9471f601717d",
   "metadata": {},
   "outputs": [],
   "source": [
    "plt.figure(figsize=(4,4))\n",
    "sns.barplot(data=df, x=\"survived\", y= \"fare\", color=\"red\")\n",
    "plt.show()"
   ]
  },
  {
   "cell_type": "code",
   "execution_count": null,
   "id": "b7513719-35de-4ebf-be99-c148f14927ca",
   "metadata": {},
   "outputs": [],
   "source": [
    "#da questa nalisi deduco che chi è sopravvissuto mediamente ha pagato una tariffa più alta"
   ]
  },
  {
   "cell_type": "code",
   "execution_count": null,
   "id": "2e318bba-8a09-4c53-91e1-be28351e8b93",
   "metadata": {},
   "outputs": [],
   "source": [
    "#importo il file"
   ]
  },
  {
   "cell_type": "code",
   "execution_count": null,
   "id": "a0ce38fa-ebd0-490b-8e3e-19c1b4bb8a26",
   "metadata": {
    "scrolled": true
   },
   "outputs": [],
   "source": [
    "path = \"https://raw.githubusercontent.com/plotly/datasets/refs/heads/master/stockdata.csv\"\n",
    "df = pd.read_csv(path)\n",
    "df"
   ]
  },
  {
   "cell_type": "markdown",
   "id": "b54c1dd5-7b43-4467-912a-21ea20a64744",
   "metadata": {
    "jp-MarkdownHeadingCollapsed": true
   },
   "source": [
    "### - Visualizziamo l'andamento delle azioni della Apple (\"AAPL\")"
   ]
  },
  {
   "cell_type": "code",
   "execution_count": null,
   "id": "3dbb4740-fa0d-4375-b889-4267a5dbd97c",
   "metadata": {},
   "outputs": [],
   "source": [
    "plt.figure(figsize=(10,4))\n",
    "plt.title(\"Andamento Apple\")\n",
    "df[\"AAPL\"].plot(color=\"red\")"
   ]
  },
  {
   "cell_type": "markdown",
   "id": "a237638b-ad6d-42d3-9959-09d61e993492",
   "metadata": {
    "jp-MarkdownHeadingCollapsed": true
   },
   "source": [
    "### - Visualizziamo l'andamento di tutte le azioni del dataset"
   ]
  },
  {
   "cell_type": "code",
   "execution_count": null,
   "id": "2036ee7e-d6d7-4f0e-a4a4-2fabbb700455",
   "metadata": {},
   "outputs": [],
   "source": [
    "plt.figure(figsize=(10,4))\n",
    "df.plot()\n",
    "plt.title(\"Andamento aziende\")\n",
    "plt.xticks(rotation=45)\n",
    "plt.show()"
   ]
  },
  {
   "cell_type": "markdown",
   "id": "7ae9d99d-e463-454c-b16f-27f1119df1cf",
   "metadata": {
    "jp-MarkdownHeadingCollapsed": true
   },
   "source": [
    "### - Visualizziamo l'andamento di Microsoft (\"MSFT\") e IBM (\"IBM\") negli anni 2012 e 2013"
   ]
  },
  {
   "cell_type": "code",
   "execution_count": null,
   "id": "e9de9faf-328e-4fb9-ad0e-b59af91b5058",
   "metadata": {},
   "outputs": [],
   "source": [
    "df[\"Date\"] = pd.to_datetime(df[\"Date\"])"
   ]
  },
  {
   "cell_type": "code",
   "execution_count": null,
   "id": "93de7a69-f27b-42f7-926b-8164608c0baa",
   "metadata": {},
   "outputs": [],
   "source": [
    "filtro = (df[\"Date\"].dt.year == 2012) | (df[\"Date\"].dt.year == 2013) # aggiungo un filtro per visualizzare solo le date interessate\n",
    "micro_ibm_2012_2013 = df[filtro][[\"MSFT\", \"IBM\", \"Date\"]] # creo un altro dataframe che contenga solo le aziende e le date interessate\n",
    "\n",
    "plt.figure(figsize=(10, 5)) # inizializzo la dimensione del grafico\n",
    "\n",
    "# per far vedere entrambe le aziende in un solo grafico imposto tramite seaborn entrambi i grafici in uno solo\n",
    "sns.lineplot(data=micro_ibm_2012_2013, x=\"Date\", y=\"MSFT\", label=\"Microsoft\") #grafico Microsoft\n",
    "sns.lineplot(data=micro_ibm_2012_2013, x=\"Date\", y=\"IBM\", label=\"IBM\") #grafico IBM\n",
    "\n",
    "#Imposto i parametri del grafico\n",
    "plt.title(\"Andamento azioni Microsoft e IBM (2012-2013)\") #titolo\n",
    "plt.xlabel(\"Data\") #titolo asse x\n",
    "plt.ylabel(\"Prezzo azioni\") #titolo asse y\n",
    "plt.tight_layout()\n",
    "plt.show()\n"
   ]
  },
  {
   "cell_type": "markdown",
   "id": "9ade1867-0bac-4daf-a59c-3bfac6af1d82",
   "metadata": {
    "jp-MarkdownHeadingCollapsed": true
   },
   "source": [
    "### - Con un istogramma, troviamo il range di valori che le azioni di Microsoft hanno assunto più spesso"
   ]
  },
  {
   "cell_type": "code",
   "execution_count": null,
   "id": "4dee525c-560b-421f-bd45-2a032262cb16",
   "metadata": {},
   "outputs": [],
   "source": [
    "df[\"MSFT\"].plot( kind=\"hist\", title=\"Valore azioni Microsoft\")"
   ]
  },
  {
   "cell_type": "markdown",
   "id": "838b11f3-ee69-4d0c-a1a0-3dd5fde573ba",
   "metadata": {
    "jp-MarkdownHeadingCollapsed": true
   },
   "source": [
    "### - Importo il file Metal_bands_2017.csv"
   ]
  },
  {
   "cell_type": "code",
   "execution_count": null,
   "id": "68aba7eb-3284-4f78-b9c9-4aae8e5d9e73",
   "metadata": {},
   "outputs": [],
   "source": [
    "df = pd.read_csv(\"datasets/seaborn_datasets/metal_bands_2017.csv\", encoding='unicode_escape')\n",
    "df"
   ]
  },
  {
   "cell_type": "markdown",
   "id": "b6bbba9d-de4c-4c4b-ad07-fd36592c5306",
   "metadata": {
    "jp-MarkdownHeadingCollapsed": true
   },
   "source": [
    "### - Con Seaborn visualizziamo l'istogramma del numero dei fan delle varie band; cosa si vede? Cose ne deduciamo?"
   ]
  },
  {
   "cell_type": "code",
   "execution_count": null,
   "id": "98b54f66-5c2a-4cfc-8a5c-1ce866db155a",
   "metadata": {},
   "outputs": [],
   "source": [
    "#Innazitutto ho bisogno di fare una puclizia a monte del dataframe\n",
    "#L'ogetto dell'analisi sono i  nnu eir dei fan, quindi posso anche eliminare le band che non hanno fans"
   ]
  },
  {
   "cell_type": "code",
   "execution_count": null,
   "id": "3ea6feba-bdea-4684-bafb-196fc25b1460",
   "metadata": {},
   "outputs": [],
   "source": [
    "df_no0_Fansdf = df[[\"band_name\", \"fans\"]].drop(df[df[\"fans\"] == 0].index)\n",
    "df_no0_Fansdf.plot(kind = \"hist\")"
   ]
  },
  {
   "cell_type": "code",
   "execution_count": null,
   "id": "1e8dc93c-bcbc-48fb-9865-50d218273466",
   "metadata": {},
   "outputs": [],
   "source": [
    "# deduco la stragrande maggioranza delle band ha un piccolo numero di fan"
   ]
  },
  {
   "cell_type": "markdown",
   "id": "6f746314-fd98-42da-a367-c81183a4bb4a",
   "metadata": {
    "jp-MarkdownHeadingCollapsed": true
   },
   "source": [
    "### - Delle band che suonano sia Progressive che Thrash, realizziamo un barplot che mostri quanti fan ci sono in totale rispetto al paese di origine"
   ]
  },
  {
   "cell_type": "code",
   "execution_count": null,
   "id": "78deb719-cfe6-421c-b799-79911dc12d57",
   "metadata": {},
   "outputs": [],
   "source": [
    "#(nota: in questo caso specifico, per accedere alla colonna \"style\" dovremo usare .loc[:, \"style\"] e non .style perché quest'ultimo è un metodo)"
   ]
  },
  {
   "cell_type": "code",
   "execution_count": null,
   "id": "cd6eae98-d9fa-4d53-8fdd-40a96d6cfc7e",
   "metadata": {
    "scrolled": true
   },
   "outputs": [],
   "source": [
    "filtro = df[\"style\"].str.contains(\"Thrash\",\"Progressive\") #filtro per stype le band (devono contenere le parole Thrash e Progressive\n",
    "band_thras_progressive = df[filtro].groupby(\"origin\")[\"fans\"].sum()\n",
    "plt.figure(figsize=(10,15))\n",
    "plt.tight_layout()\n",
    "band_thras_progressive.sort_values(ascending=True).plot(kind=\"barh\", title=(\"Tot dei fan per paese di origine della bend\"))\n"
   ]
  },
  {
   "cell_type": "markdown",
   "id": "06f75f00-be9d-49d7-9afc-54bef78108bc",
   "metadata": {
    "jp-MarkdownHeadingCollapsed": true
   },
   "source": [
    "### - Visualizziamo un istogramma delle date di formazione delle band (potremo dover convertire in qualche modo questo dato); si nota qualche trend?"
   ]
  },
  {
   "cell_type": "code",
   "execution_count": null,
   "id": "c3f18427-6501-4776-aead-f641f09f9801",
   "metadata": {},
   "outputs": [],
   "source": [
    "# il datatype della colonna \"formed\" era object, quindi prima lo converto in datatype\n",
    "df[\"formed\"] = pd.to_datetime(df[\"formed\"], errors=\"coerce\", format=\"mixed\")"
   ]
  },
  {
   "cell_type": "code",
   "execution_count": null,
   "id": "8a2296ed-ec06-45a4-b603-fe7a66be1187",
   "metadata": {},
   "outputs": [],
   "source": [
    "df[\"formed\"] = df[\"formed\"].dt.year #prendo solo l'anno "
   ]
  },
  {
   "cell_type": "code",
   "execution_count": null,
   "id": "739c5964-67d8-4420-be99-915c2af0a9a7",
   "metadata": {},
   "outputs": [],
   "source": [
    "df[\"formed\"] = df[\"formed\"].astype(\"Int64\") #trasformo l'anno in un numero intero"
   ]
  },
  {
   "cell_type": "code",
   "execution_count": null,
   "id": "2cf02a1b-a2b3-447d-9bb2-bc84970ce1c8",
   "metadata": {},
   "outputs": [],
   "source": [
    "plt.figure(figsize=(20,4))\n",
    "plt.tight_layout()\n",
    "plt.xticks(rotation=45)\n",
    "plt.ylabel(\"Band\")\n",
    "plt.xlabel(\"Anno\")\n",
    "plt.title(\"Numero di creazione delle band per anno\")\n",
    "sns.countplot(data=df, x= \"formed\", color=\"green\")\n",
    "plt.savefig(\"grafico.png\")\n",
    "plt.show()"
   ]
  },
  {
   "cell_type": "code",
   "execution_count": null,
   "id": "dfd62f5b-a965-4256-a9d9-9d739ccce5aa",
   "metadata": {},
   "outputs": [],
   "source": [
    "# da questo istogramma si nota come a partire dal 1972 fino al 2005 c'è stata una costante crescita di nuove band.\n",
    "# Gli anni maggiori sono dal 2005 al 2007, dopo di ché c'è un rapido declino fino al 2016"
   ]
  },
  {
   "cell_type": "markdown",
   "id": "2b088275-0cce-4b02-a639-0684e084b8bd",
   "metadata": {
    "jp-MarkdownHeadingCollapsed": true
   },
   "source": [
    "### - Importo il file elections.csv"
   ]
  },
  {
   "cell_type": "code",
   "execution_count": null,
   "id": "3447fb4f-f998-4e6f-8efa-0729205b6a23",
   "metadata": {
    "scrolled": true
   },
   "outputs": [],
   "source": [
    "df = pd.read_csv(\"https://raw.githubusercontent.com/plotly/datasets/refs/heads/master/election.csv\")\n",
    "df"
   ]
  },
  {
   "cell_type": "markdown",
   "id": "34584bc9-7edc-4961-ad16-c7a31e8efcf2",
   "metadata": {
    "jp-MarkdownHeadingCollapsed": true
   },
   "source": [
    "### - Con un grafico a barre confrontiamo i voti totali presi dai tre candidati (come somma di tutti i distretti)"
   ]
  },
  {
   "cell_type": "code",
   "execution_count": null,
   "id": "15676a5b-4385-4efb-8f45-c85c1b84556f",
   "metadata": {},
   "outputs": [],
   "source": [
    "total_votes = df[[\"Coderre\", \"Bergeron\", \"Joly\"]].sum()\n",
    "total_votes.plot(kind=\"bar\", color=[\"blue\", \"green\", \"orange\"])\n",
    "plt.title(\"Voti totali per candidato\")\n",
    "plt.xlabel(\"Candidato\")\n",
    "plt.ylabel(\"Voti\")\n",
    "plt.xticks(rotation=0)\n",
    "plt.tight_layout()\n",
    "plt.show()"
   ]
  },
  {
   "cell_type": "markdown",
   "id": "0655ed6c-75f7-4030-b7a4-54c0372f7702",
   "metadata": {
    "jp-MarkdownHeadingCollapsed": true
   },
   "source": [
    "### - Con un grafico a barre confrontiamo il numero di votanti per i primi dieci distretti"
   ]
  },
  {
   "cell_type": "code",
   "execution_count": null,
   "id": "c6d7793f-b3cf-4302-988d-824641fb7758",
   "metadata": {},
   "outputs": [],
   "source": [
    "primi10 = df.head(n=10)\n",
    "primi10 = primi10.groupby(\"district\")[\"total\"].sum()\n",
    "primi10.plot(kind = \"bar\", color=[\"red\",\"blue\",\"green\",\"orange\",\"purple\"])\n",
    "plt.title(\"Numeri di votanti per i primi 10 distretti\")\n",
    "plt.xlabel(\"Distretti\")\n",
    "plt.ylabel(\"Numero di voti\")\n",
    "plt.figure(figsize=(5,15))\n",
    "plt.tight_layout()\n",
    "plt.show()"
   ]
  },
  {
   "cell_type": "markdown",
   "id": "ef1b1700-7ff5-4b91-bf5e-0c6e178646b1",
   "metadata": {},
   "source": [
    "### -  Importo il file party_in_nyc.csv"
   ]
  },
  {
   "cell_type": "code",
   "execution_count": 6,
   "id": "526a075c-8a80-4d68-9643-7d056dde2966",
   "metadata": {
    "scrolled": true
   },
   "outputs": [],
   "source": [
    "df = pd.read_csv(\"datasets/seaborn_datasets/party_in_nyc.csv\")"
   ]
  },
  {
   "cell_type": "code",
   "execution_count": 7,
   "id": "70e0f226-0dcf-48e8-bee5-7741e17b2fab",
   "metadata": {},
   "outputs": [],
   "source": [
    "df[\"Incident Zip\"] = df[\"Incident Zip\"].astype(\"Int64\")\n",
    "df[\"Created Date\"] = pd.to_datetime(df[\"Created Date\"])\n",
    "df[\"Closed Date\"] = pd.to_datetime(df[\"Closed Date\"])"
   ]
  },
  {
   "cell_type": "markdown",
   "id": "8d392b31-aedb-482b-869b-8f54b1abc21f",
   "metadata": {},
   "source": [
    "### - Realizziamo un grafico che mostra quante chiamate ci sono state per ogni città per tutti i tipi di locale"
   ]
  },
  {
   "cell_type": "code",
   "execution_count": null,
   "id": "c8821800-648f-448b-a130-eba15b2a7a67",
   "metadata": {},
   "outputs": [],
   "source": [
    "location_incident = df.groupby([\"City\",\"Location Type\"])[\"Location Type\"].count()"
   ]
  },
  {
   "cell_type": "code",
   "execution_count": null,
   "id": "29ffb144-c57d-40ad-b365-74fb89286db5",
   "metadata": {},
   "outputs": [],
   "source": [
    "pivot_table = df.groupby([\"City\", \"Location Type\"]).size().unstack().fillna(0)\n",
    "\n",
    "plt.figure(figsize=(13,12))\n",
    "sns.heatmap(pivot_table, cmap=\"Blues\", annot=True, fmt=\".0f\")\n",
    "plt.title(\"Chiamate per tipo di locale e città\")\n",
    "plt.xticks(rotation=45)\n",
    "plt.xlabel(\"Tipo di locale\")\n",
    "plt.ylabel(\"Città\")\n",
    "plt.tight_layout()\n",
    "plt.show()\n"
   ]
  },
  {
   "cell_type": "code",
   "execution_count": null,
   "id": "53b9abc1-7ef2-48cd-927f-9a065dc7bcca",
   "metadata": {},
   "outputs": [],
   "source": [
    "location_incident = df.groupby([\"City\", \"Location Type\"]).size().reset_index(name=\"Counts\")\n",
    "\n",
    "plt.figure(figsize=(20,8))\n",
    "sns.barplot(data=location_incident, x=\"City\", y=\"Counts\", hue=\"Location Type\")\n",
    "plt.title(\"Numero di chiamate per ogni città e tipo di locale\")\n",
    "plt.xticks(rotation=45)\n",
    "plt.tight_layout()\n",
    "plt.show()"
   ]
  },
  {
   "cell_type": "code",
   "execution_count": null,
   "id": "d111c89b-86ce-40e0-b209-104a902de855",
   "metadata": {},
   "outputs": [],
   "source": [
    "# questo esercizio l'ho fatot conl'aiuto dell'intelligenza artificiale perché il mio codice è corretto da un punto di vista tabellare.\n",
    "# Quando poi vado a crearci sopra un grafico diventa illegibil e dispersivo. \n",
    "# Ragion per cui ho cercato dei metodi per risolvere l'esercizio in mood efficace"
   ]
  },
  {
   "cell_type": "code",
   "execution_count": 8,
   "id": "b6919a01-9678-4bd8-a6b9-39b74d6a6fc6",
   "metadata": {},
   "outputs": [
    {
     "data": {
      "text/html": [
       "<div>\n",
       "<style scoped>\n",
       "    .dataframe tbody tr th:only-of-type {\n",
       "        vertical-align: middle;\n",
       "    }\n",
       "\n",
       "    .dataframe tbody tr th {\n",
       "        vertical-align: top;\n",
       "    }\n",
       "\n",
       "    .dataframe thead th {\n",
       "        text-align: right;\n",
       "    }\n",
       "</style>\n",
       "<table border=\"1\" class=\"dataframe\">\n",
       "  <thead>\n",
       "    <tr style=\"text-align: right;\">\n",
       "      <th></th>\n",
       "      <th>Created Date</th>\n",
       "      <th>Closed Date</th>\n",
       "      <th>Location Type</th>\n",
       "      <th>Incident Zip</th>\n",
       "      <th>City</th>\n",
       "      <th>Borough</th>\n",
       "      <th>Latitude</th>\n",
       "      <th>Longitude</th>\n",
       "    </tr>\n",
       "  </thead>\n",
       "  <tbody>\n",
       "    <tr>\n",
       "      <th>0</th>\n",
       "      <td>2015-12-31 00:01:15</td>\n",
       "      <td>2015-12-31 03:48:04</td>\n",
       "      <td>Store/Commercial</td>\n",
       "      <td>10034</td>\n",
       "      <td>NEW YORK</td>\n",
       "      <td>MANHATTAN</td>\n",
       "      <td>40.866183</td>\n",
       "      <td>-73.918930</td>\n",
       "    </tr>\n",
       "    <tr>\n",
       "      <th>1</th>\n",
       "      <td>2015-12-31 00:02:48</td>\n",
       "      <td>2015-12-31 04:36:13</td>\n",
       "      <td>Store/Commercial</td>\n",
       "      <td>10040</td>\n",
       "      <td>NEW YORK</td>\n",
       "      <td>MANHATTAN</td>\n",
       "      <td>40.859324</td>\n",
       "      <td>-73.931237</td>\n",
       "    </tr>\n",
       "    <tr>\n",
       "      <th>2</th>\n",
       "      <td>2015-12-31 00:03:25</td>\n",
       "      <td>2015-12-31 00:40:15</td>\n",
       "      <td>Residential Building/House</td>\n",
       "      <td>10026</td>\n",
       "      <td>NEW YORK</td>\n",
       "      <td>MANHATTAN</td>\n",
       "      <td>40.799415</td>\n",
       "      <td>-73.953371</td>\n",
       "    </tr>\n",
       "    <tr>\n",
       "      <th>3</th>\n",
       "      <td>2015-12-31 00:03:26</td>\n",
       "      <td>2015-12-31 01:53:38</td>\n",
       "      <td>Residential Building/House</td>\n",
       "      <td>11231</td>\n",
       "      <td>BROOKLYN</td>\n",
       "      <td>BROOKLYN</td>\n",
       "      <td>40.678285</td>\n",
       "      <td>-73.994668</td>\n",
       "    </tr>\n",
       "    <tr>\n",
       "      <th>4</th>\n",
       "      <td>2015-12-31 00:05:10</td>\n",
       "      <td>2015-12-31 03:49:10</td>\n",
       "      <td>Residential Building/House</td>\n",
       "      <td>10033</td>\n",
       "      <td>NEW YORK</td>\n",
       "      <td>MANHATTAN</td>\n",
       "      <td>40.850304</td>\n",
       "      <td>-73.938516</td>\n",
       "    </tr>\n",
       "    <tr>\n",
       "      <th>...</th>\n",
       "      <td>...</td>\n",
       "      <td>...</td>\n",
       "      <td>...</td>\n",
       "      <td>...</td>\n",
       "      <td>...</td>\n",
       "      <td>...</td>\n",
       "      <td>...</td>\n",
       "      <td>...</td>\n",
       "    </tr>\n",
       "    <tr>\n",
       "      <th>225409</th>\n",
       "      <td>2016-12-31 23:53:57</td>\n",
       "      <td>2017-01-01 00:01:41</td>\n",
       "      <td>Store/Commercial</td>\n",
       "      <td>10003</td>\n",
       "      <td>NEW YORK</td>\n",
       "      <td>MANHATTAN</td>\n",
       "      <td>40.730073</td>\n",
       "      <td>-73.986585</td>\n",
       "    </tr>\n",
       "    <tr>\n",
       "      <th>225410</th>\n",
       "      <td>2016-12-31 23:55:01</td>\n",
       "      <td>2017-01-01 02:05:06</td>\n",
       "      <td>Residential Building/House</td>\n",
       "      <td>10032</td>\n",
       "      <td>NEW YORK</td>\n",
       "      <td>MANHATTAN</td>\n",
       "      <td>40.833144</td>\n",
       "      <td>-73.944617</td>\n",
       "    </tr>\n",
       "    <tr>\n",
       "      <th>225411</th>\n",
       "      <td>2016-12-31 23:56:20</td>\n",
       "      <td>2017-01-01 13:34:00</td>\n",
       "      <td>Residential Building/House</td>\n",
       "      <td>11104</td>\n",
       "      <td>SUNNYSIDE</td>\n",
       "      <td>QUEENS</td>\n",
       "      <td>40.743662</td>\n",
       "      <td>-73.923067</td>\n",
       "    </tr>\n",
       "    <tr>\n",
       "      <th>225412</th>\n",
       "      <td>2016-12-31 23:56:41</td>\n",
       "      <td>2017-01-01 03:49:12</td>\n",
       "      <td>Residential Building/House</td>\n",
       "      <td>10040</td>\n",
       "      <td>NEW YORK</td>\n",
       "      <td>MANHATTAN</td>\n",
       "      <td>40.858447</td>\n",
       "      <td>-73.929279</td>\n",
       "    </tr>\n",
       "    <tr>\n",
       "      <th>225413</th>\n",
       "      <td>2016-12-31 23:58:52</td>\n",
       "      <td>2017-01-01 00:59:52</td>\n",
       "      <td>Residential Building/House</td>\n",
       "      <td>10463</td>\n",
       "      <td>BRONX</td>\n",
       "      <td>BRONX</td>\n",
       "      <td>40.877450</td>\n",
       "      <td>-73.910498</td>\n",
       "    </tr>\n",
       "  </tbody>\n",
       "</table>\n",
       "<p>225414 rows × 8 columns</p>\n",
       "</div>"
      ],
      "text/plain": [
       "              Created Date         Closed Date               Location Type  \\\n",
       "0      2015-12-31 00:01:15 2015-12-31 03:48:04            Store/Commercial   \n",
       "1      2015-12-31 00:02:48 2015-12-31 04:36:13            Store/Commercial   \n",
       "2      2015-12-31 00:03:25 2015-12-31 00:40:15  Residential Building/House   \n",
       "3      2015-12-31 00:03:26 2015-12-31 01:53:38  Residential Building/House   \n",
       "4      2015-12-31 00:05:10 2015-12-31 03:49:10  Residential Building/House   \n",
       "...                    ...                 ...                         ...   \n",
       "225409 2016-12-31 23:53:57 2017-01-01 00:01:41            Store/Commercial   \n",
       "225410 2016-12-31 23:55:01 2017-01-01 02:05:06  Residential Building/House   \n",
       "225411 2016-12-31 23:56:20 2017-01-01 13:34:00  Residential Building/House   \n",
       "225412 2016-12-31 23:56:41 2017-01-01 03:49:12  Residential Building/House   \n",
       "225413 2016-12-31 23:58:52 2017-01-01 00:59:52  Residential Building/House   \n",
       "\n",
       "        Incident Zip       City    Borough   Latitude  Longitude  \n",
       "0              10034   NEW YORK  MANHATTAN  40.866183 -73.918930  \n",
       "1              10040   NEW YORK  MANHATTAN  40.859324 -73.931237  \n",
       "2              10026   NEW YORK  MANHATTAN  40.799415 -73.953371  \n",
       "3              11231   BROOKLYN   BROOKLYN  40.678285 -73.994668  \n",
       "4              10033   NEW YORK  MANHATTAN  40.850304 -73.938516  \n",
       "...              ...        ...        ...        ...        ...  \n",
       "225409         10003   NEW YORK  MANHATTAN  40.730073 -73.986585  \n",
       "225410         10032   NEW YORK  MANHATTAN  40.833144 -73.944617  \n",
       "225411         11104  SUNNYSIDE     QUEENS  40.743662 -73.923067  \n",
       "225412         10040   NEW YORK  MANHATTAN  40.858447 -73.929279  \n",
       "225413         10463      BRONX      BRONX  40.877450 -73.910498  \n",
       "\n",
       "[225414 rows x 8 columns]"
      ]
     },
     "execution_count": 8,
     "metadata": {},
     "output_type": "execute_result"
    }
   ],
   "source": [
    "df"
   ]
  },
  {
   "cell_type": "markdown",
   "id": "22431bf2-3b4a-45db-ae55-c40ae646f242",
   "metadata": {},
   "source": [
    "### -Qual è il rettangolo di latitudine e longitudine considerato dal dataset?"
   ]
  },
  {
   "cell_type": "code",
   "execution_count": null,
   "id": "2cde44bc-4a6b-41e6-b722-8d84e2f3f6ed",
   "metadata": {},
   "outputs": [],
   "source": [
    "# per rispondere a questa domanda ho bisogno di capire il max ed il min dei dati presenti in longi e latit"
   ]
  },
  {
   "cell_type": "code",
   "execution_count": 16,
   "id": "8b98a426-1572-45f1-9d21-d9d51be42a69",
   "metadata": {},
   "outputs": [],
   "source": [
    "max_long = df[\"Longitude\"].max()\n",
    "max_lat = df[\"Latitude\"].max()\n",
    "min_long = df[\"Longitude\"].min()\n",
    "min_lat = df[\"Latitude\"].min()"
   ]
  },
  {
   "cell_type": "code",
   "execution_count": 17,
   "id": "e36a27f3-e428-405e-933e-5d02cd145351",
   "metadata": {},
   "outputs": [
    {
     "name": "stdout",
     "output_type": "stream",
     "text": [
      "Il quadrato considerato dal dataset ha cordinate\n",
      "Punto A = -73.70230256557906 e 40.91217840308113\n",
      "Punto B = -73.70230256557906 e 40.498819681472185\n",
      "Punto C = -74.25127710072611 e 40.498819681472185\n",
      "pPnto D = -74.25127710072611 e 40.91217840308113 \n"
     ]
    }
   ],
   "source": [
    "print(f\"Il quadrato considerato dal dataset ha cordinate\\nPunto A = {max_long} e {max_lat}\\nPunto B = {max_long} e {min_lat}\\nPunto C = {min_long} e {min_lat}\\npPnto D = {min_long} e {max_lat} \")"
   ]
  },
  {
   "cell_type": "code",
   "execution_count": 25,
   "id": "54bbb2f4-0e60-497c-b9ec-7435e931e4ce",
   "metadata": {},
   "outputs": [
    {
     "data": {
      "image/png": "[encoded data removed]",
      "text/plain": [
       "<Figure size 500x400 with 1 Axes>"
      ]
     },
     "metadata": {},
     "output_type": "display_data"
    }
   ],
   "source": [
    "lats = [max_lat, min_lat, min_lat, max_lat, max_lat]\n",
    "longs = [max_long, max_long, min_long, min_long, max_long]\n",
    "\n",
    "plt.figure(figsize=(5,4))\n",
    "plt.plot(longs, lats, marker='o', linestyle='--', color='red')\n",
    "plt.title(\"Rettangolo delle cordinate prese dal dataset\")\n",
    "plt.xlabel(\"Longitude\")\n",
    "plt.ylabel(\"Latitude\")\n",
    "plt.grid(True)\n",
    "plt.show()"
   ]
  },
  {
   "cell_type": "markdown",
   "id": "ff2556a6-29f0-4dfc-a1d7-1bed6abc08b9",
   "metadata": {},
   "source": [
    "### - Quante segnalazioni sono state fatte per case private?"
   ]
  },
  {
   "cell_type": "code",
   "execution_count": 29,
   "id": "b376f71e-cd3b-4b71-9d95-918122aa899b",
   "metadata": {},
   "outputs": [
    {
     "data": {
      "text/plain": [
       "146040"
      ]
     },
     "execution_count": 29,
     "metadata": {},
     "output_type": "execute_result"
    }
   ],
   "source": [
    "# Numero di segnalazioni per case private\n",
    "df[df[\"Location Type\"] == \"Residential Building/House\"].shape[0]"
   ]
  },
  {
   "cell_type": "code",
   "execution_count": 32,
   "id": "916aed3f-9587-4bff-9d19-ea3590873c21",
   "metadata": {},
   "outputs": [
    {
     "data": {
      "text/plain": [
       "225414"
      ]
     },
     "execution_count": 32,
     "metadata": {},
     "output_type": "execute_result"
    }
   ],
   "source": [
    "# Segnalazioni totali\n",
    "df[\"Location Type\"].shape[0]"
   ]
  },
  {
   "cell_type": "code",
   "execution_count": 27,
   "id": "2c8c3a66-e47f-40fd-b722-4b97cdbec426",
   "metadata": {},
   "outputs": [
    {
     "data": {
      "image/png": "[encoded data removed]",
      "text/plain": [
       "<Figure size 1500x500 with 1 Axes>"
      ]
     },
     "metadata": {},
     "output_type": "display_data"
    }
   ],
   "source": [
    "plt.figure(figsize=(15,5))\n",
    "sns.countplot(data = df, x= \"Location Type\", color=\"green\")\n",
    "plt.title(\"Segnalazioni per case private\")\n",
    "plt.tight_layout()\n",
    "plt.show()"
   ]
  },
  {
   "cell_type": "code",
   "execution_count": 28,
   "id": "d8d8601d-6924-4231-a7e8-35809fea8441",
   "metadata": {},
   "outputs": [],
   "source": [
    "# come possiamo vedere dal grafico le la stragrande maggioranza di segnalazioni viene dalle case private\n",
    "# in particolare 146040 segnalazioni su 225414, pari al 64.78 %"
   ]
  },
  {
   "cell_type": "markdown",
   "id": "a68edc63-f53a-4d95-a2a4-3f69cd70a89d",
   "metadata": {},
   "source": [
    "### - Con Seaborn visualizziamo il conteggio delle segnalazioni avvenute in ogni quartiere"
   ]
  },
  {
   "cell_type": "code",
   "execution_count": 47,
   "id": "16bce734-cd14-42e1-92f0-34db35eb3af4",
   "metadata": {},
   "outputs": [
    {
     "data": {
      "text/plain": [
       "<function matplotlib.pyplot.show(close=None, block=None)>"
      ]
     },
     "execution_count": 47,
     "metadata": {},
     "output_type": "execute_result"
    },
    {
     "data": {
      "text/plain": [
       "<Figure size 640x480 with 0 Axes>"
      ]
     },
     "metadata": {},
     "output_type": "display_data"
    },
    {
     "data": {
      "image/png": "[encoded data removed]",
      "text/plain": [
       "<Figure size 1000x400 with 1 Axes>"
      ]
     },
     "metadata": {},
     "output_type": "display_data"
    }
   ],
   "source": [
    "plt.tight_layout()\n",
    "plt.figure(figsize=(10,4))\n",
    "plt.title(\"Segnalazioni per quartiere\")\n",
    "plt.xlabel(\"Quartieri\")\n",
    "plt.ylabel(\"Segnalazioni\")\n",
    "sns.countplot(data = df, x=\"Borough\", color=\"gold\")\n",
    "plt.show"
   ]
  },
  {
   "cell_type": "markdown",
   "id": "b5186f12-7460-4a5b-a15b-b0113d59b729",
   "metadata": {},
   "source": [
    "### - che succede se aggiungiamo il parametro hue=\"Location Type\"?"
   ]
  },
  {
   "cell_type": "code",
   "execution_count": 45,
   "id": "18c2015b-be6d-44ce-abd7-8a867e9b605f",
   "metadata": {},
   "outputs": [
    {
     "data": {
      "text/plain": [
       "<function matplotlib.pyplot.show(close=None, block=None)>"
      ]
     },
     "execution_count": 45,
     "metadata": {},
     "output_type": "execute_result"
    },
    {
     "data": {
      "text/plain": [
       "<Figure size 640x480 with 0 Axes>"
      ]
     },
     "metadata": {},
     "output_type": "display_data"
    },
    {
     "data": {
      "image/png": "[encoded data removed]",
      "text/plain": [
       "<Figure size 1000x400 with 1 Axes>"
      ]
     },
     "metadata": {},
     "output_type": "display_data"
    }
   ],
   "source": [
    "plt.tight_layout()\n",
    "plt.figure(figsize=(10,4))\n",
    "plt.title(\"Segnalazioni per quartiere\")\n",
    "plt.xlabel(\"Quartieri\")\n",
    "plt.ylabel(\"Segnalazioni\")\n",
    "sns.countplot(data = df, x=\"Borough\", hue=\"Location Type\")\n",
    "plt.show"
   ]
  },
  {
   "cell_type": "code",
   "execution_count": 48,
   "id": "88355f4f-e9c2-42e3-b849-599e9a9cff4e",
   "metadata": {},
   "outputs": [],
   "source": [
    "# veramente interessante!!!"
   ]
  },
  {
   "cell_type": "code",
   "execution_count": null,
   "id": "868e6ce0-f8a7-4adb-b59e-b6eb12858fff",
   "metadata": {},
   "outputs": [],
   "source": []
  }
 ],
 "metadata": {
  "kernelspec": {
   "display_name": "Python 3 (ipykernel)",
   "language": "python",
   "name": "python3"
  },
  "language_info": {
   "codemirror_mode": {
    "name": "ipython",
    "version": 3
   },
   "file_extension": ".py",
   "mimetype": "text/x-python",
   "name": "python",
   "nbconvert_exporter": "python",
   "pygments_lexer": "ipython3",
   "version": "3.12.7"
  }
 },
 "nbformat": 4,
 "nbformat_minor": 5
}
