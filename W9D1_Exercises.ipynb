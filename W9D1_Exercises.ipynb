{
 "cells": [
  {
   "cell_type": "code",
   "execution_count": 2,
   "id": "89842ac6-e3e0-479e-9165-864393b02d68",
   "metadata": {},
   "outputs": [
    {
     "data": {
      "text/plain": [
       "\"\\n    Ordinare una pizza\\n        1) Definire pizzeria da cui ordinare\\n        2) Definire quale pizza\\n        3) Definire orario\\n        4) Chiamare la pizzeria\\n        5) Ordinare pizza a orario scelto\\n        6) se l'orario scelto = orario attuale andare a prendere la pizza\\n        7) se pizza pronta pago altrimenti aspetto\\n        8) torno a casa\\n        9) mangio pizza\\n    \\n    Fare il caffè\\n        1) Accendere macchinetta\\n        2) se vecchia cialda è presente allora la tolgo, altrimenti inserisco nuova cialda\\n        3) se la luce è verde erogo il caffè, altrimenti aspetto\\n        4) se quantità caffè è uguale a mia quantità preferita allora smetto di erogare il caffè\\n        5) prendo la tazzina\\n        6) bevo il caffè\\n\\n    Studiare il libro\\n        1) andare alla libreria\\n        2) scegliere libro\\n        3) prendere il libro\\n        4) se ho già iniziato il libro vado a ultima pagina, altrimenti inizio da capo\\n        5) leggo\\n        6) comprendo\\n        7) ricordo\\n        8) rielaboro\\n        9) inserisco segnalibro all'ultima pagina letta\\n        10) riposo in libreria\\n\""
      ]
     },
     "execution_count": 2,
     "metadata": {},
     "output_type": "execute_result"
    }
   ],
   "source": [
    "# Individuo 3 task\n",
    "# 1) Ordinare una pizza\n",
    "# 2) Fare il caffè\n",
    "# 3) Studiare un libro\n",
    "\n",
    "'''\n",
    "    Ordinare una pizza\n",
    "        1) Definire pizzeria da cui ordinare\n",
    "        2) Definire quale pizza\n",
    "        3) Definire orario\n",
    "        4) Chiamare la pizzeria\n",
    "        5) Ordinare pizza a orario scelto\n",
    "        6) se l'orario scelto = orario attuale andare a prendere la pizza\n",
    "        7) se pizza pronta pago altrimenti aspetto\n",
    "        8) torno a casa\n",
    "        9) mangio pizza\n",
    "    \n",
    "    Fare il caffè\n",
    "        1) Accendere macchinetta\n",
    "        2) se vecchia cialda è presente allora la tolgo, altrimenti inserisco nuova cialda\n",
    "        3) se la luce è verde erogo il caffè, altrimenti aspetto\n",
    "        4) se quantità caffè è uguale a mia quantità preferita allora smetto di erogare il caffè\n",
    "        5) prendo la tazzina\n",
    "        6) bevo il caffè\n",
    "\n",
    "    Studiare il libro\n",
    "        1) andare alla libreria\n",
    "        2) scegliere libro\n",
    "        3) prendere il libro\n",
    "        4) se ho già iniziato il libro vado a ultima pagina, altrimenti inizio da capo\n",
    "        5) leggo\n",
    "        6) comprendo\n",
    "        7) ricordo\n",
    "        8) rielaboro\n",
    "        9) inserisco segnalibro all'ultima pagina letta\n",
    "        10) riposo in libreria\n",
    "'''\n"
   ]
  },
  {
   "cell_type": "code",
   "execution_count": 7,
   "id": "4ec17220-75fe-43da-8049-972870a857f5",
   "metadata": {},
   "outputs": [
    {
     "name": "stdout",
     "output_type": "stream",
     "text": [
      "Gli studenti sono: 25\n",
      "I nuovi studenti sono: 3\n",
      "Il totale degli studenti è: 28\n"
     ]
    }
   ],
   "source": [
    "numero_studenti = 25\n",
    "print(f\"Gli studenti sono: {numero_studenti}\")\n",
    "nuovi_studenti = 3\n",
    "print(f\"I nuovi studenti sono: {nuovi_studenti}\")\n",
    "totale_studenti = numero_studenti + nuovi_studenti\n",
    "print(f\"Il totale degli studenti è: {totale_studenti}\")\n"
   ]
  },
  {
   "cell_type": "code",
   "execution_count": 8,
   "id": "63b93bba-faa8-4521-a659-fb588a93cc89",
   "metadata": {},
   "outputs": [
    {
     "name": "stdout",
     "output_type": "stream",
     "text": [
      "Epicode\n"
     ]
    }
   ],
   "source": [
    "name = \"Epicode\"\n",
    "print(name)"
   ]
  },
  {
   "cell_type": "code",
   "execution_count": 10,
   "id": "8275f601-ad46-4ca9-a7a0-b05c81e3dc83",
   "metadata": {},
   "outputs": [
    {
     "name": "stdout",
     "output_type": "stream",
     "text": [
      "36\n"
     ]
    }
   ],
   "source": [
    "x = 10\n",
    "x = (x + 2)*3\n",
    "print(x)"
   ]
  },
  {
   "cell_type": "code",
   "execution_count": 12,
   "id": "61bc7d8a-30f9-4f5f-af36-1961ae0b45c9",
   "metadata": {},
   "outputs": [
    {
     "name": "stdout",
     "output_type": "stream",
     "text": [
      "7\n",
      "5\n",
      "10\n",
      "4\n"
     ]
    }
   ],
   "source": [
    "str1, str2, str3, str4 = \"Windows\", \"Excel\", \"Powerpoint\", \"Word\"\n",
    "print(len(str1))\n",
    "print(len(str2))\n",
    "print(len(str3))\n",
    "print(len(str4))"
   ]
  },
  {
   "cell_type": "code",
   "execution_count": 17,
   "id": "4ef53029-440e-4a99-8860-bd85164833e2",
   "metadata": {},
   "outputs": [
    {
     "name": "stdout",
     "output_type": "stream",
     "text": [
      "In un annon non bisestile ci sono: 31,536,000 secondi\n"
     ]
    }
   ],
   "source": [
    "# Calcoliamo quanti secondi ci sono in un anno non bisestile\n",
    "giorni = 365\n",
    "ore = giorni * 24\n",
    "minuti = ore * 60\n",
    "secondi = minuti * 60\n",
    "print(f\"In un annon non bisestile ci sono: {secondi:,} secondi\")"
   ]
  },
  {
   "cell_type": "code",
   "execution_count": 59,
   "id": "cb3f666c-10d0-4ad1-9c74-350c1a6968e0",
   "metadata": {},
   "outputs": [
    {
     "name": "stdout",
     "output_type": "stream",
     "text": [
      "I am studying Python\n",
      "I AM STUDYING PYTHON\n",
      "i am studying python\n",
      "i am studying a lot\n"
     ]
    },
    {
     "data": {
      "text/plain": [
       "'i am studying a lot'"
      ]
     },
     "execution_count": 59,
     "metadata": {},
     "output_type": "execute_result"
    }
   ],
   "source": [
    "my_string = \"I am studying Python\"\n",
    "print(my_string)\n",
    "\n",
    "my_string = my_string.upper()\n",
    "print(my_string)\n",
    "\n",
    "my_string = my_string.lower()\n",
    "print(my_string)\n",
    "\n",
    "# Uso .split() per dividere la stringa in elementi di una lista, dopo sostituisco l'elemento di indice 3 ovvero \"python\" con \"a lot\"\n",
    "# Successivamente con la funzione .join() riunisco gli elementi della lista in un unica stringa separandoli, chiaramente, con degli spazi\n",
    "split_string = my_string.split()\n",
    "split_string[3] = \"a lot\"\n",
    "my_string = \" \".join(split_string)\n",
    "print(my_string)\n",
    "\n",
    "#\n",
    "my_string = my_string.strip()\n",
    "my_string"
   ]
  },
  {
   "cell_type": "code",
   "execution_count": 60,
   "id": "3e1bd006-ba5e-4160-bead-c348f4cb140c",
   "metadata": {},
   "outputs": [
    {
     "name": "stdout",
     "output_type": "stream",
     "text": [
      "['Alex', 'Bob', 'Cindy', 'Dan', 'Emma', 'Faith', 'Grace', 'Henry', 'Emma', 'Faith', 'Grace', 'Henry']\n",
      "['Cybersecurity', 'Data Analyst', 'Backend', 'Frontend', 'Data Analyst', 'Backend', 'Data Analyst', 'Backend', 'Frontend', 'Cybersecurity']\n"
     ]
    }
   ],
   "source": [
    "studenti = [\"Alex\", \"Bob\", \"Cindy\", \"Dan\", \"Emma\", \"Faith\", \"Grace\", \"Henry\"]\n",
    "corsi = [\"Cybersecurity\", \"Data Analyst\", \"Backend\", \"Frontend\", \"Data Analyst\", \"Backend\"]\n",
    "\n",
    "studenti.append(\"Emma\")\n",
    "studenti.append(\"Faith\")\n",
    "studenti.append(\"Grace\")\n",
    "studenti.append(\"Henry\")\n",
    "\n",
    "corsi.append(\"Data Analyst\")\n",
    "corsi.append(\"Backend\")\n",
    "corsi.append(\"Frontend\")\n",
    "corsi.append(\"Cybersecurity\")\n",
    "\n",
    "print(studenti)\n",
    "print(corsi)"
   ]
  },
  {
   "cell_type": "code",
   "execution_count": null,
   "id": "e2a58052-eb5f-44a5-9980-b7dbabca0591",
   "metadata": {},
   "outputs": [],
   "source": [
    "studenti = [\"Alex\", \"Bob\", \"Cindy\", \"Dan\", \"Emma\", \"Faith\", \"Grace\", \"Henry\"]\n",
    "corsi = [\"Cybersecurity\", \"Data Analyst\", \"Backend\", \"Frontend\", \"Data Analyst\", \"Backend\"]\n",
    "\n",
    "nuovi_studenti = [\"Emma\", \"Faith\", \"Grace\", \"Henry\"]\n",
    "nuovi_corsi = [\"Data Analyst\", \"Backend\", \"Frontend\", \"Cybersecurity\"]"
   ]
  }
 ],
 "metadata": {
  "kernelspec": {
   "display_name": "Python 3 (ipykernel)",
   "language": "python",
   "name": "python3"
  },
  "language_info": {
   "codemirror_mode": {
    "name": "ipython",
    "version": 3
   },
   "file_extension": ".py",
   "mimetype": "text/x-python",
   "name": "python",
   "nbconvert_exporter": "python",
   "pygments_lexer": "ipython3",
   "version": "3.12.7"
  }
 },
 "nbformat": 4,
 "nbformat_minor": 5
}
