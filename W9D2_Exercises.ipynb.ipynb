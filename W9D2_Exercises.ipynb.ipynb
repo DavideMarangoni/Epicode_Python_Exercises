{
 "cells": [
  {
   "cell_type": "code",
   "execution_count": 7,
   "id": "3240a480-e80f-41a1-99bd-e3d3ab82ce97",
   "metadata": {
    "collapsed": true,
    "jupyter": {
     "outputs_hidden": true
    }
   },
   "outputs": [
    {
     "name": "stdout",
     "output_type": "stream",
     "text": [
      "E\n",
      "p\n",
      "i\n",
      "c\n",
      "o\n",
      "d\n",
      "e\n"
     ]
    }
   ],
   "source": [
    "nome_scuola = \"Epicode\"\n",
    "a = 0\n",
    "while a < len(nome_scuola):\n",
    "    print(nome_scuola[a])\n",
    "    a += 1"
   ]
  },
  {
   "cell_type": "code",
   "execution_count": 11,
   "id": "5169a381-9460-4d11-aef7-4ee8fbc18648",
   "metadata": {
    "collapsed": true,
    "jupyter": {
     "outputs_hidden": true
    }
   },
   "outputs": [
    {
     "name": "stdout",
     "output_type": "stream",
     "text": [
      "1\n",
      "2\n",
      "3\n",
      "4\n",
      "5\n",
      "6\n",
      "7\n",
      "8\n",
      "9\n",
      "10\n",
      "11\n",
      "12\n",
      "13\n",
      "14\n",
      "15\n",
      "16\n",
      "17\n",
      "18\n",
      "19\n",
      "20\n"
     ]
    }
   ],
   "source": [
    "numeri = 1\n",
    "while numeri <= 20:\n",
    "    print(numeri)\n",
    "    numeri += 1"
   ]
  },
  {
   "cell_type": "code",
   "execution_count": 14,
   "id": "2b17938d-8039-4d3b-b2bc-074f2d49b2fb",
   "metadata": {
    "collapsed": true,
    "jupyter": {
     "outputs_hidden": true
    }
   },
   "outputs": [
    {
     "name": "stdout",
     "output_type": "stream",
     "text": [
      "2^0: 1\n",
      "2^1: 2\n",
      "2^2: 4\n",
      "2^3: 8\n",
      "2^4: 16\n",
      "2^5: 32\n",
      "2^6: 64\n",
      "2^7: 128\n",
      "2^8: 256\n",
      "2^9: 512\n",
      "2^10: 1024\n"
     ]
    }
   ],
   "source": [
    "potenza = 0\n",
    "while potenza <= 10:\n",
    "    print(f\"2^{potenza}: {2**potenza}\")\n",
    "    potenza += 1"
   ]
  },
  {
   "cell_type": "code",
   "execution_count": 22,
   "id": "4326e0ee-10c3-4bb0-aa94-cc211fde40fc",
   "metadata": {},
   "outputs": [
    {
     "name": "stdin",
     "output_type": "stream",
     "text": [
      "Inserisci la potenza:  12\n"
     ]
    },
    {
     "name": "stdout",
     "output_type": "stream",
     "text": [
      "2^0: 1\n",
      "2^1: 2\n",
      "2^2: 4\n",
      "2^3: 8\n",
      "2^4: 16\n",
      "2^5: 32\n",
      "2^6: 64\n",
      "2^7: 128\n",
      "2^8: 256\n",
      "2^9: 512\n",
      "2^10: 1024\n",
      "2^11: 2048\n",
      "2^12: 4096\n"
     ]
    }
   ],
   "source": [
    "potenza = int(input(\"Inserisci la potenza: \"))\n",
    "n = 0\n",
    "while n <= potenza:\n",
    "    print(f\"2^{n}: {2**n}\")\n",
    "    n += 1"
   ]
  },
  {
   "cell_type": "code",
   "execution_count": 28,
   "id": "8b2d30ef-8777-42d1-8345-be96b8de1c42",
   "metadata": {},
   "outputs": [
    {
     "name": "stdout",
     "output_type": "stream",
     "text": [
      "2^0 1\n",
      "2^1 2\n",
      "2^2 4\n",
      "2^3 8\n",
      "2^4 16\n",
      "2^5 32\n",
      "2^6 64\n",
      "2^7 128\n",
      "2^8 256\n",
      "2^9 512\n",
      "2^10 1024\n",
      "2^11 2048\n",
      "2^12 4096\n",
      "2^13 8192\n",
      "2^14 16384\n"
     ]
    }
   ],
   "source": [
    "potenza = 0\n",
    "n = 0\n",
    "while 2**potenza < 25_000:\n",
    "    print(\"2^\"+str(n),2**potenza)\n",
    "    potenza += 1\n",
    "    n += 1"
   ]
  },
  {
   "cell_type": "code",
   "execution_count": 33,
   "id": "8dd7df3a-6024-4d6a-90c4-6c329b2ad689",
   "metadata": {},
   "outputs": [
    {
     "name": "stdin",
     "output_type": "stream",
     "text": [
      "Inserisci la tua stringa:  Ciao, mi chiamo Davide\n"
     ]
    },
    {
     "name": "stdout",
     "output_type": "stream",
     "text": [
      "Cia...ide\n"
     ]
    }
   ],
   "source": [
    "stringa = input(\"Inserisci la tua stringa: \")\n",
    "if len(stringa) < 6:\n",
    "    print(\"La lunghezza della stringa è inferiore a 6\")\n",
    "else:\n",
    "    primi_3 = stringa[:3]\n",
    "    ultimi_3 = stringa[-3:]\n",
    "    print(f\"{primi_3}...{ultimi_3}\")\n",
    "    \n",
    "    "
   ]
  },
  {
   "cell_type": "code",
   "execution_count": null,
   "id": "e4e40eeb-b6a6-4abe-9189-080129942371",
   "metadata": {},
   "outputs": [],
   "source": [
    "num = int(input(\"Inserisci un numero: \")\n"
   ]
  },
  {
   "cell_type": "code",
   "execution_count": 65,
   "id": "0d57a062-37de-4e78-9c8f-2c88db3c552f",
   "metadata": {},
   "outputs": [
    {
     "name": "stdin",
     "output_type": "stream",
     "text": [
      "Inserisci un numero:  14280\n"
     ]
    },
    {
     "name": "stdout",
     "output_type": "stream",
     "text": [
      "Fattori primi: [2, 2, 2, 3, 5, 7, 17]\n"
     ]
    }
   ],
   "source": [
    "numero = int(input(\"Inserisci un numero: \"))\n",
    "fattori_primi = []\n",
    "divisore = 2\n",
    "\n",
    "while numero > 1:\n",
    "    if numero % divisore == 0:\n",
    "        fattori_primi.append(divisore)\n",
    "        numero = numero // divisore\n",
    "    else:\n",
    "        divisore += 1\n",
    "\n",
    "print(\"Fattori primi:\", fattori_primi)"
   ]
  },
  {
   "cell_type": "code",
   "execution_count": 66,
   "id": "14f482c7-9abb-4223-a3a6-9ba9724bfc2d",
   "metadata": {},
   "outputs": [
    {
     "name": "stdout",
     "output_type": "stream",
     "text": [
      "E\n",
      "p\n",
      "i\n",
      "c\n",
      "o\n",
      "d\n",
      "e\n"
     ]
    }
   ],
   "source": [
    "nome_scuola = \"Epicode\"\n",
    "for lettera in nome_scuola:\n",
    "    print(lettera)"
   ]
  },
  {
   "cell_type": "code",
   "execution_count": 70,
   "id": "dd77f1a1-8e54-4e79-8280-057702c04dfd",
   "metadata": {},
   "outputs": [
    {
     "name": "stdout",
     "output_type": "stream",
     "text": [
      "2^0: 1\n",
      "2^1: 2\n",
      "2^2: 4\n",
      "2^3: 8\n",
      "2^4: 16\n",
      "2^5: 32\n",
      "2^6: 64\n",
      "2^7: 128\n",
      "2^8: 256\n",
      "2^9: 512\n",
      "2^10: 1024\n"
     ]
    }
   ],
   "source": [
    "potenza = 0\n",
    "i = 0\n",
    "for numero in range(11):\n",
    "    numero = 2**potenza\n",
    "    print(f\"2^{i}: {numero}\")\n",
    "    potenza += 1\n",
    "    i += 1\n",
    "    "
   ]
  },
  {
   "cell_type": "code",
   "execution_count": 81,
   "id": "c77c6e7f-5b90-46fc-a5b9-5ce3c7e22dca",
   "metadata": {},
   "outputs": [
    {
     "name": "stdin",
     "output_type": "stream",
     "text": [
      "Inserisci un numero:  3\n",
      "Inserisci fino a che potenza vuoi elevare il numero:  7\n"
     ]
    },
    {
     "name": "stdout",
     "output_type": "stream",
     "text": [
      "[1, 3, 9, 27, 81, 243, 729, 2187]\n"
     ]
    }
   ],
   "source": [
    "#Versione for\n",
    "n = int(input(\"Inserisci un numero: \"))\n",
    "potenza = int(input(\"Inserisci fino a che potenza vuoi elevare il numero: \"))\n",
    "lista_risultati = []\n",
    "for numero in range(0,potenza+1):\n",
    "    lista_risultati.append(n**numero)\n",
    "print(lista_risultati)\n",
    "      "
   ]
  },
  {
   "cell_type": "code",
   "execution_count": 84,
   "id": "4f0bcd7f-529c-449e-ab21-6fa5253049a7",
   "metadata": {},
   "outputs": [
    {
     "name": "stdin",
     "output_type": "stream",
     "text": [
      "Inserisci un numero:  3\n",
      "Inserisci fino a che potenza vuoi elevare il numero:  7\n"
     ]
    },
    {
     "name": "stdout",
     "output_type": "stream",
     "text": [
      "[1, 3, 9, 27, 81, 243, 729, 2187]\n"
     ]
    }
   ],
   "source": [
    "#Versione while\n",
    "n = int(input(\"Inserisci un numero: \"))\n",
    "potenza = int(input(\"Inserisci fino a che potenza vuoi elevare il numero: \"))\n",
    "lista_risultati = []\n",
    "i = 0\n",
    "while i <= potenza:\n",
    "    lista_risultati.append(n**i)\n",
    "    i += 1\n",
    "print(lista_risultati)"
   ]
  },
  {
   "cell_type": "code",
   "execution_count": 86,
   "id": "512fa768-e0b7-4f0a-a439-1c2bdd097026",
   "metadata": {},
   "outputs": [
    {
     "name": "stdout",
     "output_type": "stream",
     "text": [
      "70.0\n"
     ]
    }
   ],
   "source": [
    "guadagni = [100, 90, 70, 40, 50, 80, 90, 120, 80, 20, 50, 50]\n",
    "tmp = 0\n",
    "for guadagno in guadagni:\n",
    "    tmp += guadagno\n",
    "media_guadagni = tmp / 12\n",
    "print(media_guadagni)"
   ]
  },
  {
   "cell_type": "code",
   "execution_count": 88,
   "id": "269c6749-8740-46cc-9f08-86aae1e04f2c",
   "metadata": {},
   "outputs": [
    {
     "name": "stdout",
     "output_type": "stream",
     "text": [
      "{'Albergo': 1, 'Sedia': 1, 'Borgo': 0, 'Petalo': 1, 'Eremo': 2, 'Belvedere': 4, 'Semestre': 3, 'Esteta': 2, 'Sosta': 0, 'Orpello': 1, 'Abete': 2, 'Orologio': 0, 'Cesta': 1, 'Ermellino': 2}\n"
     ]
    }
   ],
   "source": [
    "# ho pensato che una corretta soluzione grafica all'esercizio potesse essere un dizionario nel quale le chiavi rappresentano le parole della lista e il\n",
    "# valore è quante volte appare la \"e\" o la \"E\" dentro la parola\n",
    "parole = [\"Albergo\", \"Sedia\", \"Borgo\", \"Petalo\", \"Eremo\", \"Belvedere\", \"Semestre\", \"Esteta\", \"Sosta\", \"Orpello\", \"Abete\", \"Orologio\", \"Cesta\", \"Ermellino\"]\n",
    "dic_num_e = {}\n",
    "for parola in parole:\n",
    "    num_e = 0\n",
    "    for lettera in parola:\n",
    "        if lettera == \"E\" or lettera == \"e\":\n",
    "            num_e += 1\n",
    "        dic_num_e[parola] = num_e\n",
    "print(dic_num_e)\n"
   ]
  },
  {
   "cell_type": "code",
   "execution_count": 90,
   "id": "6d48fb92-c95d-4ac8-b81d-e7adbc2916f1",
   "metadata": {},
   "outputs": [
    {
     "name": "stdout",
     "output_type": "stream",
     "text": [
      "Albergo: 1\n",
      "Sedia: 1\n",
      "Borgo: 0\n",
      "Petalo: 1\n",
      "Eremo: 2\n",
      "Belvedere: 4\n",
      "Semestre: 3\n",
      "Esteta: 2\n",
      "Sosta: 0\n",
      "Orpello: 1\n",
      "Abete: 2\n",
      "Orologio: 0\n",
      "Cesta: 1\n",
      "Ermellino: 2\n"
     ]
    }
   ],
   "source": [
    "#Per completezza do la soluzione all'esercizio in modo più classico\n",
    "parole = [\"Albergo\", \"Sedia\", \"Borgo\", \"Petalo\", \"Eremo\", \"Belvedere\", \"Semestre\", \"Esteta\", \"Sosta\", \"Orpello\", \"Abete\", \"Orologio\", \"Cesta\", \"Ermellino\"]\n",
    "\n",
    "for parola in parole:\n",
    "    num_e = 0\n",
    "    for lettera in parola:\n",
    "        if lettera == \"E\" or lettera == \"e\":\n",
    "            num_e += 1\n",
    "    print(f\"{parola}: {num_e}\")\n",
    "            \n",
    "            "
   ]
  },
  {
   "cell_type": "code",
   "execution_count": 93,
   "id": "65d6dcdc-2566-4836-b4a7-3f13877f284c",
   "metadata": {},
   "outputs": [
    {
     "name": "stdout",
     "output_type": "stream",
     "text": [
      "{'Ada': 'Punto', 'Ben': 'Multipla', 'Charlie': 'Golf', 'Debbie': '107'}\n",
      "107\n"
     ]
    }
   ],
   "source": [
    "proprietari = {\n",
    "    \"Ada\": \"Punto\",\n",
    "    \"Ben\": \"Multipla\",\n",
    "    \"Charlie\": \"Golf\",\n",
    "    \"Debbie\": \"107\"\n",
    "}\n",
    "print(proprietari)\n",
    "print(proprietari[\"Debbie\"])"
   ]
  },
  {
   "cell_type": "code",
   "execution_count": 97,
   "id": "a459996b-7078-4084-8d07-6a075c23376a",
   "metadata": {},
   "outputs": [
    {
     "name": "stdout",
     "output_type": "stream",
     "text": [
      "Punto\n",
      "Golf\n",
      "107\n"
     ]
    }
   ],
   "source": [
    "dizionario_auto = {\"Ada\": \"Punto\", \"Ben\": \"Multipla\", \"Charlie\": \"Golf\", \"Debbie\": \"107\"}\n",
    "for value in dizionario_auto.values():\n",
    "    if value != \"Multipla\":\n",
    "        print(value)"
   ]
  },
  {
   "cell_type": "code",
   "execution_count": 105,
   "id": "5b79c907-7b47-4c34-a93c-d17a73b7329f",
   "metadata": {},
   "outputs": [
    {
     "name": "stdout",
     "output_type": "stream",
     "text": [
      "{'Ada': 'Punto', 'Ben': 'Polo', 'Charlie': 'Golf', 'Debbie': '107', 'Emily': 'A1', 'Fred': 'Octavia', 'Grace': 'Yaris', 'Hugh': 'Clio'}\n"
     ]
    }
   ],
   "source": [
    "dizionario_auto = {\"Ada\": \"Punto\", \"Ben\": \"Multipla\", \"Charlie\": \"Golf\", \"Debbie\": \"107\", \"Emily\": \"A1\"}\n",
    "nuovi_proprietari = {\"Ben\": \"Polo\", \"Fred\": \"Octavia\", \"Grace\": \"Yaris\", \"Hugh\": \"Clio\"}\n",
    "for key in dizionario_auto:\n",
    "    if key in nuovi_proprietari:\n",
    "        dizionario_auto[key] = nuovi_proprietari[key]\n",
    "    elif key not in nuovi_proprietari:\n",
    "        dizionario_auto[key] = dizionario_auto[key]\n",
    "for key in nuovi_proprietari:\n",
    "    if key not in dizionario_auto:\n",
    "        dizionario_auto[key] = nuovi_proprietari[key]\n",
    "print(dizionario_auto)\n",
    "# chiaramente Ben è stato aggiornato con la nuova informazione relativa alla sua auto"
   ]
  },
  {
   "cell_type": "code",
   "execution_count": null,
   "id": "f7cfacae-016a-4ba7-ab27-d4835cb6f1fa",
   "metadata": {},
   "outputs": [],
   "source": []
  }
 ],
 "metadata": {
  "kernelspec": {
   "display_name": "Python 3 (ipykernel)",
   "language": "python",
   "name": "python3"
  },
  "language_info": {
   "codemirror_mode": {
    "name": "ipython",
    "version": 3
   },
   "file_extension": ".py",
   "mimetype": "text/x-python",
   "name": "python",
   "nbconvert_exporter": "python",
   "pygments_lexer": "ipython3",
   "version": "3.12.7"
  }
 },
 "nbformat": 4,
 "nbformat_minor": 5
}
