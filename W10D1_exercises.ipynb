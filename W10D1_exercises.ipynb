{
 "cells": [
  {
   "cell_type": "code",
   "execution_count": 3,
   "id": "55a0e046-1935-4496-a795-c7fee6b5cf40",
   "metadata": {},
   "outputs": [
    {
     "name": "stdout",
     "output_type": "stream",
     "text": [
      "<class 'list'>\n",
      "10\n"
     ]
    }
   ],
   "source": [
    "mat = [[0, 1, 2, 3, 4], \n",
    "       [5, 6, 7, 8, 9], \n",
    "       [10, 11, 12, 13, 14]]\n",
    "print(type(mat))\n",
    "print(mat[2][0]) #Se voglio accedere, ad esempio, all'elemente \"10\""
   ]
  },
  {
   "cell_type": "code",
   "execution_count": 15,
   "id": "4204f863-25fc-460f-8191-35f821e778e9",
   "metadata": {},
   "outputs": [
    {
     "name": "stdout",
     "output_type": "stream",
     "text": [
      "0.8939966636005579\n",
      "-0.5984600690578581\n",
      "3628800\n",
      "3.141592653589793\n"
     ]
    }
   ],
   "source": [
    "import math\n",
    "print(math.sin(90))\n",
    "print(math.cos(180))\n",
    "print(math.factorial(10))\n",
    "print(math.pi) # Pi greco"
   ]
  },
  {
   "cell_type": "code",
   "execution_count": 17,
   "id": "c2c4f4ac-f5fe-4c36-944c-7ed021fbdb81",
   "metadata": {},
   "outputs": [
    {
     "name": "stdout",
     "output_type": "stream",
     "text": [
      "180.0\n"
     ]
    }
   ],
   "source": [
    "print(math.degrees(math.pi))\n",
    "# la funzione .degrees transorma gli angoli da radianti a gradi\n",
    "# di fatti l'angolo del pi greco è 180°"
   ]
  },
  {
   "cell_type": "code",
   "execution_count": 37,
   "id": "4c02ea31-818f-4bf4-a7b9-790376cc9f07",
   "metadata": {},
   "outputs": [
    {
     "name": "stdout",
     "output_type": "stream",
     "text": [
      "[2000 5500 7200 4320 1280 1900 2500 3900 6410 8150 7100 5350]\n",
      "Vendita massima mensile: 8150\n",
      "Vendita minima mensile: 1280\n",
      "\n",
      "Vendite mensili maggiori di 5000 oggetti: \n",
      "5500\n",
      "7200\n",
      "6410\n",
      "8150\n",
      "7100\n",
      "5350\n",
      "Numero di mesi con vendite maggiori di 5000 oggetti: 6\n",
      "\n",
      "Vendite mensili minori di 3000 oggetti: \n",
      "2000\n",
      "1280\n",
      "1900\n",
      "2500\n",
      "Media di oggetti mensili venduti: 4634\n"
     ]
    }
   ],
   "source": [
    "import numpy as np\n",
    "import statistics as st\n",
    "lst = [2000, 5500, 7200, 4320, 1280, 1900, 2500, 3900, 6410, 8150, 7100, 5350]\n",
    "lst = np.array(lst)\n",
    "print(lst)\n",
    "print(f\"Vendita massima mensile: {max(lst)}\") #vendita massima \n",
    "print(f\"Vendita minima mensile: {min(lst)}\") #vendita minima\n",
    "n = 0\n",
    "print(\"\\nVendite mensili maggiori di 5000 oggetti: \")\n",
    "for numero in lst:\n",
    "    if numero > 5000:\n",
    "        n += 1\n",
    "        print(numero)\n",
    "print(f\"Numero di mesi con vendite maggiori di 5000 oggetti: {n}\")\n",
    "\n",
    "print(\"\\nVendite mensili minori di 3000 oggetti: \")\n",
    "for numero in lst:\n",
    "    if numero < 3000:\n",
    "        print(numero)\n",
    "print(f\"Media di oggetti mensili venduti: {st.mean(lst)}\") #la funzione mean di statistics fa la media di un insieme di valori, tra cui anche una lista"
   ]
  },
  {
   "cell_type": "code",
   "execution_count": 49,
   "id": "01e98b5a-8f1a-44aa-958a-a7c41145b372",
   "metadata": {},
   "outputs": [
    {
     "name": "stdout",
     "output_type": "stream",
     "text": [
      "12000\n",
      "12000\n",
      "<class 'dict'>\n",
      "<class 'pandas.core.series.Series'>\n"
     ]
    }
   ],
   "source": [
    "import pandas as pd\n",
    "fatturati_dict = {1997: 12_000, 1998: 15_000, 1999: 20_000, 2000: 23_000, 2001: 25_000, 2002: 17_000, 2003: 14_000, 2004: 21_000}\n",
    "fatturati_series = pd.Series([12_000, 15_000, 20_000, 23_000, 25_000, 17_000, 14_000, 21_000], index=range(1997, 2005))\n",
    "\n",
    "print(fatturati_dict[1997]) \n",
    "print(fatturati_series[1997])\n",
    "\n",
    "# Possiamo osseravare che sono due tipologie di dato diversi \n",
    "print(type(fatturati_dict))\n",
    "print(type(fatturati_series))\n",
    "\n",
    "# A colpo d'occhio inesperto la differenza è a livello grafico. Sicuramente più intuitivo la series dal punto di vista di analisi dei dati partendo da un grafico"
   ]
  },
  {
   "cell_type": "code",
   "execution_count": 68,
   "id": "4c2ac5c4-4627-4c61-bd76-effbfe48f554",
   "metadata": {},
   "outputs": [
    {
     "name": "stdout",
     "output_type": "stream",
     "text": [
      "[ 100  200  300  400  500  600  700  800  900 1000]\n",
      "[ 200  400  600  800 1000 1200 1400 1600 1800 2000]\n"
     ]
    }
   ],
   "source": [
    "import numpy as np \n",
    "stipendi = np.array( [100, 200, 300, 400, 500, 600, 700, 800, 900, 1000] )\n",
    "print(stipendi)\n",
    "\n",
    "for i in range(len(stipendi)):\n",
    "    stipendi[i] = stipendi[i] * 2\n",
    "print(stipendi)"
   ]
  },
  {
   "cell_type": "code",
   "execution_count": 70,
   "id": "e4226ba3-f070-4cd8-9df0-44937f38feae",
   "metadata": {},
   "outputs": [
    {
     "name": "stdout",
     "output_type": "stream",
     "text": [
      "[ 100  200  300  400  500  600  700  800  900 1000]\n",
      "[ 200  400  600  800 1000 1200 1400 1600 1800 2000]\n"
     ]
    }
   ],
   "source": [
    "import numpy as np\n",
    "\n",
    "stipendi = np.array([100, 200, 300, 400, 500, 600, 700, 800, 900, 1000])\n",
    "print(stipendi)\n",
    "stipendi_doppi = stipendi * 2\n",
    "\n",
    "print(stipendi_doppi)"
   ]
  },
  {
   "cell_type": "code",
   "execution_count": 96,
   "id": "3eab90f8-d879-4f3a-b214-9a141c6fd3ae",
   "metadata": {},
   "outputs": [
    {
     "name": "stdin",
     "output_type": "stream",
     "text": [
      "Inserisci un numero (digita 'stop' per fermarti):  \n"
     ]
    },
    {
     "name": "stdout",
     "output_type": "stream",
     "text": [
      "Devi inserire un numero intero!\n"
     ]
    },
    {
     "name": "stdin",
     "output_type": "stream",
     "text": [
      "Inserisci un numero (digita 'stop' per fermarti):  stop\n"
     ]
    },
    {
     "name": "stdout",
     "output_type": "stream",
     "text": [
      "[]\n",
      "Nessun numero inserito.\n"
     ]
    }
   ],
   "source": [
    "# es:\n",
    "# Scrivere un programma che, data una lista di numeri, fornisca in output i tre numeri più grandi; gestire il caso in cui la lista sia più corta di tre, \n",
    "# e quando uno o più dei numeri selezionati sono uguali.\n",
    "numeri = []\n",
    "while True:\n",
    "    numero = input(\"Inserisci un numero (digita 'stop' per fermarti): \")\n",
    "    if numero.lower() == \"stop\":\n",
    "        break\n",
    "    try:\n",
    "        numero = int(numero)\n",
    "        numeri.append(numero)\n",
    "    except ValueError:\n",
    "        print(\"Devi inserire un numero intero!\")\n",
    "\n",
    "# Rimuove duplicati e ordina in ordine decrescente\n",
    "numeri_unici = sorted(set(numeri), reverse=True)\n",
    "print(numeri_unici)\n",
    "# Controlla quanti numeri unici ci sono\n",
    "if len(numeri_unici) == 0:\n",
    "    print(\"Nessun numero inserito.\")\n",
    "elif len(numeri_unici) <= 3:\n",
    "    print(f\"I numeri più grandi (senza duplicati) sono: {numeri_unici}\")\n",
    "else:\n",
    "    print(f\"I tre numeri più grandi (senza duplicati) sono: {numeri_unici[:3]}\")\n",
    "\n",
    "\n",
    "    \n",
    "    \n"
   ]
  },
  {
   "cell_type": "code",
   "execution_count": 105,
   "id": "3e632bf8-963e-45c5-ab96-204794d7d42e",
   "metadata": {},
   "outputs": [
    {
     "name": "stdin",
     "output_type": "stream",
     "text": [
      "Inserisci un numero (digita 'stop' per fermarti):  10\n",
      "Inserisci un numero (digita 'stop' per fermarti):  10\n",
      "Inserisci un numero (digita 'stop' per fermarti):  50\n",
      "Inserisci un numero (digita 'stop' per fermarti):  40\n",
      "Inserisci un numero (digita 'stop' per fermarti):  0\n",
      "Inserisci un numero (digita 'stop' per fermarti):  30\n",
      "Inserisci un numero (digita 'stop' per fermarti):  50\n",
      "Inserisci un numero (digita 'stop' per fermarti):  stop\n",
      "Inserisci il numero di paragone:  90\n"
     ]
    },
    {
     "name": "stdout",
     "output_type": "stream",
     "text": [
      "Non hai inserito numeri maggiori di 90 e non posso eseguire la media \n"
     ]
    }
   ],
   "source": [
    "import statistics as stat\n",
    "numeri = []\n",
    "numeri_maggiori_K = []\n",
    "while True:\n",
    "    numero = input(\"Inserisci un numero (digita 'stop' per fermarti): \")\n",
    "    if numero.lower() == \"stop\":\n",
    "        break\n",
    "    try:\n",
    "        numero = int(numero)\n",
    "        numeri.append(numero)\n",
    "    except ValueError:\n",
    "        print(\"Devi inserire un numero intero!\")\n",
    "\n",
    "K = input(\"Inserisci il numero di paragone: \")\n",
    "try:\n",
    "    K = int(K)\n",
    "except ValueError:\n",
    "    print(\"Devi inserire un numero intero! \")\n",
    "for numero in numeri:\n",
    "    if numero > K:\n",
    "        numeri_maggiori_K.append(numero)\n",
    "if len(numeri_maggiori_K) == 0:\n",
    "    print(f\"Non hai inserito numeri maggiori di {K} e non posso eseguire la media \")\n",
    "else:\n",
    "    media = stat.mean(numeri_maggiori_K)\n",
    "    print(f\"La lista dei numeri che hai composto: {numeri}\")\n",
    "    print(f\"Il numero di paragone che hai scelto: {K}\")\n",
    "    print(f\"I numeri maggiori di {K} presi per la media: {numeri_maggiori_K}\")\n",
    "    print(f\"La loro media è: {media}\")\n"
   ]
  },
  {
   "cell_type": "code",
   "execution_count": 109,
   "id": "7f8b9be9-52b9-49a9-8ff8-c4f5f251e81d",
   "metadata": {},
   "outputs": [
    {
     "name": "stdin",
     "output_type": "stream",
     "text": [
      "Inserisci un numero (digita 'stop' per fermarti):  \n"
     ]
    },
    {
     "name": "stdout",
     "output_type": "stream",
     "text": [
      "Devi inserire un numero intero!\n"
     ]
    },
    {
     "name": "stdin",
     "output_type": "stream",
     "text": [
      "Inserisci un numero (digita 'stop' per fermarti):  5\n",
      "Inserisci un numero (digita 'stop' per fermarti):  2\n",
      "Inserisci un numero (digita 'stop' per fermarti):  3\n",
      "Inserisci un numero (digita 'stop' per fermarti):  4\n",
      "Inserisci un numero (digita 'stop' per fermarti):  stop\n"
     ]
    },
    {
     "name": "stdout",
     "output_type": "stream",
     "text": [
      "La tua lista: [5, 2, 3, 4]\n",
      "\n",
      "*****\n",
      "**\n",
      "***\n",
      "****\n"
     ]
    }
   ],
   "source": [
    "numeri = []\n",
    "while True:\n",
    "    numero = input(\"Inserisci un numero (digita 'stop' per fermarti): \")\n",
    "    if numero.lower() == \"stop\":\n",
    "        break\n",
    "    try:\n",
    "        numero = int(numero)\n",
    "        numeri.append(numero)\n",
    "    except ValueError:\n",
    "        print(\"Devi inserire un numero intero!\")\n",
    "print(f\"La tua lista: {numeri}\\n\")\n",
    "for numero in numeri:\n",
    "    print(\"*\"*numero)"
   ]
  },
  {
   "cell_type": "code",
   "execution_count": 122,
   "id": "f97f31a7-737a-4c09-9837-d97b7a482b35",
   "metadata": {},
   "outputs": [
    {
     "name": "stdout",
     "output_type": "stream",
     "text": [
      "Codice Fiscale: ABCDEF95G01A123B\n",
      "Caratteri del nome: ABC\n",
      "Caratteri del cognome: DEF\n",
      "\n",
      "Codice Fiscale: STUVWX95Z04A654E\n",
      "Caratteri del nome: STU\n",
      "Caratteri del cognome: VWX\n",
      "\n",
      "Codice Fiscale: DEFGHI95J06A987G\n",
      "Caratteri del nome: DEF\n",
      "Caratteri del cognome: GHI\n",
      "\n"
     ]
    }
   ],
   "source": [
    "lista_cf = [\"ABCDEF95G01A123B\", \"GHIJKL91M02A321C\", \"MNOPQR89S03A456D\", \"STUVWX95Z04A654E\", \"XYZABC01D05A789F\", \"DEFGHI95J06A987G\"]\n",
    "codici_con_95 = []\n",
    "for codice in lista_cf:\n",
    "    if \"95\" in codice:\n",
    "        codici_con_95.append(codice)\n",
    "for codice in codici_con_95:\n",
    "    print(f\"Codice Fiscale: {codice}\\nCaratteri del nome: {codice[:3]}\\nCaratteri del cognome: {codice[3:6]}\\n\")"
   ]
  },
  {
   "cell_type": "code",
   "execution_count": 140,
   "id": "bc935bd0-8d18-4115-8c0e-1ca53ead8967",
   "metadata": {},
   "outputs": [
    {
     "name": "stdout",
     "output_type": "stream",
     "text": [
      "Studenti in una prima edizione:\n",
      "Alex\n",
      "Faith\n"
     ]
    }
   ],
   "source": [
    "studenti = [\"Alex\", \"Bob\", \"Cindy\", \"Dan\", \"Emma\", \"Faith\", \"Grace\", \"Henry\"]\n",
    "corsi = [\"Cybersecurity\", \"Data Analyst\", \"Backend\", \"Frontend\", \"Data Analyst\", \"Backend\", \"Frontend\", \"Cybersecurity\"]\n",
    "edizioni = [1, 2, 3, 2, 2, 1, 3, 3]\n",
    "alunni_prima_edizione = []\n",
    "\n",
    "for i in range(len(edizioni)):\n",
    "    if edizioni[i] == 1:\n",
    "        alunni_prima_edizione.append(studenti[i])\n",
    "print(\"Studenti in una prima edizione:\")\n",
    "for alunno in alunni_prima_edizione:\n",
    "    print(f\"{alunno}\")\n"
   ]
  },
  {
   "cell_type": "code",
   "execution_count": 159,
   "id": "ddacbaba-9c32-46bf-a436-b5a3d222f177",
   "metadata": {},
   "outputs": [
    {
     "name": "stdout",
     "output_type": "stream",
     "text": [
      "['100 $', '200 $', '500 $', '10 $', '50 $', '70 $']\n",
      "['100 $', '200 $', '500 $', '10 $', '50 $', '70 $']\n"
     ]
    }
   ],
   "source": [
    "prezzi = [\"100 €\", \"200 €\", \"500 €\", \"10 €\", \"50 €\", \"70 €\"]\n",
    "prezzi_corretti = []\n",
    "\n",
    "for prezzo in prezzi:\n",
    "    prezzi_corretti.append(prezzo.replace(\"€\",\"$\"))\n",
    "print(prezzi_corretti)\n",
    "\n",
    "#Lo stesso esericizio è possibile farlo con la lista comprehension\n",
    "prezzi_comprehension = [prezzo.replace(\"€\",\"$\") for prezzo in prezzi]\n",
    "print(prezzi_comprehension)\n",
    "    "
   ]
  },
  {
   "cell_type": "code",
   "execution_count": 164,
   "id": "e8e0952e-fa19-415a-9899-a56d12aef1f8",
   "metadata": {},
   "outputs": [
    {
     "name": "stdout",
     "output_type": "stream",
     "text": [
      "['Alex', 'Cindy', 'Emma', 'Grace', 'Isabelle']\n",
      "['Bob', 'Dan', 'Faith', 'Henry', 'John']\n"
     ]
    }
   ],
   "source": [
    "studenti = [\"Alex\", \"Bob\", \"Cindy\", \"Dan\", \"Emma\", \"Faith\", \"Grace\", \"Henry\", \"Isabelle\", \"John\"]\n",
    "squadra_uno = [nome for nome in studenti if studenti.index(nome) % 2 == 0]\n",
    "squadra_due = [nome for nome in studenti if studenti.index(nome) % 2 != 0]\n",
    "\n",
    "print(squadra_uno)\n",
    "print(squadra_due)"
   ]
  },
  {
   "cell_type": "code",
   "execution_count": 197,
   "id": "966bfa12-281b-4cd1-961c-f328aee8eee1",
   "metadata": {},
   "outputs": [
    {
     "name": "stdout",
     "output_type": "stream",
     "text": [
      "Mese 1: €100.00\n",
      "Mese 2: €95.00 (media prec: €100.00 - il guadagno è minore)\n",
      "Mese 3: €86.67 (media prec: €95.00 - il guadagno è minore)\n",
      "Mese 4: €75.00 (media prec: €86.67 - il guadagno è minore)\n",
      "Mese 5: €70.00 (media prec: €75.00 - il guadagno è minore)\n",
      "Mese 6: €71.67 (media prec: €70.00 - il guadagno è maggiore)\n",
      "Mese 7: €74.29 (media prec: €71.67 - il guadagno è maggiore)\n",
      "Mese 8: €80.00 (media prec: €74.29 - il guadagno è maggiore)\n",
      "Mese 10: €74.00 (media prec: €80.00 - il guadagno è minore)\n",
      "Mese 11: €71.82 (media prec: €74.00 - il guadagno è minore)\n",
      "Mese 12: €70.00 (media prec: €71.82 - il guadagno è minore)\n"
     ]
    }
   ],
   "source": [
    "import statistics as stat\n",
    "guadagni = [100, 90, 70, 40, 50, 80, 90, 120, 80, 20, 50, 50]\n",
    "tmp = 0\n",
    "for i in range(len(guadagni)):\n",
    "    tmp += guadagni[i]\n",
    "    media_precedente = media\n",
    "    media = tmp / (i + 1)\n",
    "    if (i + 1) == 1:\n",
    "        print(f\"Mese {i+1}: €{media:.2f}\")\n",
    "    else:\n",
    "        if media > media_precedente:\n",
    "            print(f\"Mese {i+1}: €{media:.2f} (media prec: €{media_precedente:.2f} - il guadagno è maggiore)\")\n",
    "        elif media < media_precedente:\n",
    "            print(f\"Mese {i+1}: €{media:.2f} (media prec: €{media_precedente:.2f} - il guadagno è minore)\")\n",
    "\n",
    "\n",
    "\n"
   ]
  },
  {
   "cell_type": "code",
   "execution_count": null,
   "id": "dc55689e-8a64-417e-a528-ec8243d14d0c",
   "metadata": {},
   "outputs": [],
   "source": []
  }
 ],
 "metadata": {
  "kernelspec": {
   "display_name": "Python 3 (ipykernel)",
   "language": "python",
   "name": "python3"
  },
  "language_info": {
   "codemirror_mode": {
    "name": "ipython",
    "version": 3
   },
   "file_extension": ".py",
   "mimetype": "text/x-python",
   "name": "python",
   "nbconvert_exporter": "python",
   "pygments_lexer": "ipython3",
   "version": "3.12.7"
  }
 },
 "nbformat": 4,
 "nbformat_minor": 5
}
